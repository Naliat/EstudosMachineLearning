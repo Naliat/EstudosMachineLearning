{
 "cells": [
  {
   "cell_type": "markdown",
   "metadata": {},
   "source": [
    "# Exercício de Árvore de Decisão: Regressão de Preços de Imóveis na Califórnia\n",
    "\n",
    "**Objetivo:** Neste exercício, você irá treinar, avaliar e regularizar um regressor de Árvore de Decisão usando o dataset 'California housing'. Você aplicará conceitos do Capítulo 6, focando em hiperparâmetros de regularização, regressão com árvores, avaliação e o efeito do pré-processamento (PCA).\n",
    "\n",
    "**Tópicos Cobertos:**\n",
    "- Treinamento de `DecisionTreeRegressor`\n",
    "- Avaliação com Validação Cruzada (RMSE)\n",
    "- Hiperparâmetros de Regularização (`min_samples_leaf`)\n",
    "- Efeito do Pré-processamento (`StandardScaler`, `PCA`)\n",
    "- Avaliação Final no Conjunto de Teste"
   ]
  },
  {
   "cell_type": "markdown",
   "metadata": {},
   "source": [
    "## 1. Configuração e Importações\n",
    "\n",
    "Importar as bibliotecas necessárias."
   ]
  },
  {
   "cell_type": "code",
   "execution_count": 57,
   "metadata": {},
   "outputs": [],
   "source": [
    "import numpy as np\n",
    "import pandas as pd\n",
    "import matplotlib.pyplot as plt\n",
    "\n",
    "from sklearn.datasets import fetch_california_housing\n",
    "from sklearn.model_selection import train_test_split, cross_val_score\n",
    "from sklearn.tree import DecisionTreeRegressor\n",
    "from sklearn.metrics import mean_squared_error\n",
    "from sklearn.preprocessing import StandardScaler\n",
    "from sklearn.decomposition import PCA\n",
    "from sklearn.pipeline import Pipeline\n",
    "\n",
    "# Para plotar figuras bonitas\n",
    "%matplotlib inline\n",
    "import matplotlib as mpl\n",
    "mpl.rc('axes', labelsize=14)\n",
    "mpl.rc('xtick', labelsize=12)\n",
    "mpl.rc('ytick', labelsize=12)\n",
    "\n",
    "# Definir estado aleatório para reprodutibilidade\n",
    "RANDOM_STATE = 42"
   ]
  },
  {
   "cell_type": "markdown",
   "metadata": {},
   "source": [
    "## 2. Carregar os Dados\n",
    "\n",
    "Carregar o dataset California housing."
   ]
  },
  {
   "cell_type": "code",
   "execution_count": 58,
   "metadata": {},
   "outputs": [
    {
     "name": "stdout",
     "output_type": "stream",
     "text": [
      "Shape de X: (20640, 8)\n",
      "Shape de y: (20640,)\n"
     ]
    }
   ],
   "source": [
    "housing = fetch_california_housing()\n",
    "X = housing.data\n",
    "y = housing.target\n",
    "\n",
    "print(\"Shape de X:\", X.shape)\n",
    "print(\"Shape de y:\", y.shape)"
   ]
  },
  {
   "cell_type": "markdown",
   "metadata": {},
   "source": [
    "## 3. Dividir os Dados em Conjuntos de Treino e Teste\n",
    "\n",
    "**Sua tarefa:** Use `train_test_split` para dividir os dados `X` e `y` em conjuntos de treinamento e teste. Use 20% dos dados para teste e defina `random_state=RANDOM_STATE`."
   ]
  },
  {
   "cell_type": "code",
   "execution_count": 59,
   "metadata": {},
   "outputs": [
    {
     "name": "stdout",
     "output_type": "stream",
     "text": [
      "Tamanho do treino: 16512\n",
      "Tamanho do teste: 4128\n"
     ]
    }
   ],
   "source": [
    "X_train, X_test, y_train, y_test = None, None, None, None # <<< SUBSTITUA None PELO SEU CÓDIGO >>>\n",
    "\n",
    "# <<< SEU CÓDIGO AQUI >>>\n",
    "X_train, X_test, y_train, y_test = train_test_split(X, y, test_size=0.2, random_state=42)\n",
    "# <<< FIM DO SEU CÓDIGO >>>\n",
    "\n",
    "print(\"Tamanho do treino:\", len(X_train))\n",
    "print(\"Tamanho do teste:\", len(X_test))"
   ]
  },
  {
   "cell_type": "markdown",
   "metadata": {},
   "source": [
    "## 4. Treinar e Avaliar um Modelo Base (Sem Pré-processamento)\n",
    "\n",
    "**Sua tarefa:**\n",
    "1. Crie um `DecisionTreeRegressor` com `random_state=RANDOM_STATE` (parâmetros default).\n",
    "2. Avalie-o usando validação cruzada (`cross_val_score`) com 5 folds (`cv=5`). Use a métrica 'neg_mean_squared_error'.\n",
    "3. Calcule e imprima o RMSE médio a partir dos scores da validação cruzada (lembre-se que os scores são negativos e são MSE, não RMSE)."
   ]
  },
  {
   "cell_type": "code",
   "execution_count": 60,
   "metadata": {},
   "outputs": [
    {
     "name": "stdout",
     "output_type": "stream",
     "text": [
      "RMSE Médio (Modelo Base): 0.0328\n"
     ]
    }
   ],
   "source": [
    "from sklearn.tree import DecisionTreeRegressor\n",
    "from sklearn.model_selection import cross_val_score\n",
    "import numpy as np\n",
    "\n",
    "tree_reg_base = None\n",
    "base_scores = None\n",
    "base_rmse = None\n",
    "\n",
    "# Gerar os dados quadráticos com ruído\n",
    "np.random.seed(42)\n",
    "X_quad = np.random.rand(200, 1) - 0.5\n",
    "y_quad = X_quad ** 2 + 0.025 * np.random.randn(200, 1)\n",
    "\n",
    "# 1. Criar o regressor\n",
    "tree_reg_base = DecisionTreeRegressor(random_state=42)\n",
    "\n",
    "# 2. Avaliar com validação cruzada (MSE negativo)\n",
    "base_scores = cross_val_score(tree_reg_base, X_quad, y_quad, cv=5, scoring='neg_mean_squared_error')\n",
    "\n",
    "# 3. Calcular RMSE médio\n",
    "base_rmse = np.sqrt(-base_scores.mean())\n",
    "\n",
    "print(f\"RMSE Médio (Modelo Base): {base_rmse:.4f}\")\n"
   ]
  },
  {
   "cell_type": "markdown",
   "metadata": {},
   "source": [
    "## 5. Aplicar Pré-processamento (StandardScaler + PCA) e Avaliar\n",
    "\n",
    "Árvores de decisão não exigem escalonamento, mas são sensíveis à rotação dos dados. Vamos ver se aplicar `StandardScaler` seguido por `PCA` melhora o desempenho.\n",
    "\n",
    "**Sua tarefa:**\n",
    "1. Crie um `Pipeline` que primeiro aplica `StandardScaler` e depois `PCA` (mantenha 95% da variância, `n_components=0.95`, e defina `random_state=RANDOM_STATE` no PCA).\n",
    "2. Ajuste (fit) o pipeline aos dados de **treinamento** (`X_train`).\n",
    "3. Transforme os dados de treinamento usando o pipeline ajustado.\n",
    "4. Crie um `DecisionTreeRegressor` (com `random_state=RANDOM_STATE`).\n",
    "5. Avalie este regressor nos dados de treinamento **pré-processados** usando validação cruzada (`cross_val_score`, `cv=5`, `scoring='neg_mean_squared_error'`).\n",
    "6. Calcule e imprima o RMSE médio.\n",
    "7. Compare com o RMSE do modelo base e comente se o pré-processamento ajudou."
   ]
  },
  {
   "cell_type": "code",
   "execution_count": 61,
   "metadata": {},
   "outputs": [
    {
     "name": "stdout",
     "output_type": "stream",
     "text": [
      "RMSE Médio (com PCA): 0.9586\n",
      "\n",
      "O pré-processamento com StandardScaler e PCA NÃO melhorou (ou piorou) o RMSE médio.\n",
      "Continuaremos usando os dados pré-processados para os próximos passos.\n"
     ]
    }
   ],
   "source": [
    "preprocessing_pipeline = None\n",
    "X_train_prepared = None\n",
    "tree_reg_pca = None\n",
    "pca_scores = None\n",
    "pca_rmse = None\n",
    "\n",
    "# <<< SEU CÓDIGO AQUI >>>\n",
    "# 1. Criar o pipeline de pré-processamento\n",
    "preprocessing_pipeline = Pipeline([\n",
    "    ('scaler', StandardScaler()),\n",
    "    ('pca', PCA(n_components=0.95, random_state=42))\n",
    "])\n",
    "\n",
    "# 2. Ajustar o pipeline aos dados de treinamento\n",
    "preprocessing_pipeline.fit(X_train)\n",
    "\n",
    "# 3. Transformar os dados de treinamento\n",
    "X_train_prepared = preprocessing_pipeline.transform(X_train)\n",
    "\n",
    "# 4. Criar o regressor\n",
    "tree_reg_pca = DecisionTreeRegressor(random_state=42)\n",
    "\n",
    "# 5. Avaliar nos dados pré-processados\n",
    "pca_scores = cross_val_score(tree_reg_pca, X_train_prepared, y_train, cv=5, scoring='neg_mean_squared_error')\n",
    "\n",
    "# 6. Calcular RMSE médio\n",
    "pca_rmse = np.sqrt(-pca_scores.mean())\n",
    "# <<< FIM DO SEU CÓDIGO >>>\n",
    "\n",
    "print(f\"RMSE Médio (com PCA): {pca_rmse:.4f}\")\n",
    "\n",
    "if pca_rmse < base_rmse:\n",
    "    print(\"\\nO pré-processamento com StandardScaler e PCA melhorou ligeiramente o RMSE médio.\")\n",
    "else:\n",
    "    print(\"\\nO pré-processamento com StandardScaler e PCA NÃO melhorou (ou piorou) o RMSE médio.\")\n",
    "print(\"Continuaremos usando os dados pré-processados para os próximos passos.\")\n"
   ]
  },
  {
   "cell_type": "markdown",
   "metadata": {},
   "source": [
    "## 6. Ajustar `min_samples_leaf` Usando Validação Cruzada\n",
    "\n",
    "Agora vamos encontrar o melhor valor para o hiperparâmetro de regularização `min_samples_leaf`.\n",
    "\n",
    "**Sua tarefa:**\n",
    "1. Defina uma lista de valores para testar: `min_samples_leaf_values = [2, 4, 8, 16, 32]`.\n",
    "2. Para cada valor na lista:\n",
    "   a. Crie um `DecisionTreeRegressor` com o `min_samples_leaf` atual e `random_state=RANDOM_STATE`.\n",
    "   b. Avalie-o nos dados de treinamento **pré-processados** (`X_train_prepared`) usando `cross_val_score` (`cv=5`, `scoring='neg_mean_squared_error'`).\n",
    "   c. Calcule o RMSE médio e armazene-o.\n",
    "3. Encontre o valor de `min_samples_leaf` que resultou no menor RMSE médio.\n",
    "4. Imprima o melhor valor de `min_samples_leaf` e o RMSE correspondente."
   ]
  },
  {
   "cell_type": "code",
   "execution_count": 62,
   "metadata": {},
   "outputs": [
    {
     "name": "stdout",
     "output_type": "stream",
     "text": [
      "min_samples_leaf=8, RMSE Médio=0.8095\n",
      "min_samples_leaf=16, RMSE Médio=0.7788\n",
      "min_samples_leaf=32, RMSE Médio=0.7633\n",
      "min_samples_leaf=64, RMSE Médio=0.7616\n",
      "min_samples_leaf=128, RMSE Médio=0.7683\n",
      "\n",
      "Melhor min_samples_leaf: 64\n",
      "Melhor RMSE Médio de Validação Cruzada: 0.7616\n"
     ]
    },
    {
     "data": {
      "image/png": "[encoded data removed]",
      "text/plain": [
       "<Figure size 800x400 with 1 Axes>"
      ]
     },
     "metadata": {},
     "output_type": "display_data"
    }
   ],
   "source": [
    "min_samples_leaf_values = [8, 16, 32, 64, 128]\n",
    "rmse_scores = []\n",
    "best_min_samples_leaf = None\n",
    "best_rmse = float('inf')\n",
    "\n",
    "for min_samples in min_samples_leaf_values:\n",
    "# <<< SEU CÓDIGO AQUI >>>\n",
    "    # 2a. Criar o regressor\n",
    "    reg = DecisionTreeRegressor(min_samples_leaf=min_samples, random_state=42)\n",
    "\n",
    "    # 2b. Avaliar com validação cruzada\n",
    "    scores = cross_val_score(reg, X_train_prepared, y_train, cv=5, scoring='neg_mean_squared_error')\n",
    "\n",
    "    # 2c. Calcular e armazenar RMSE médio\n",
    "    current_rmse = np.sqrt(-scores.mean())\n",
    "# <<< FIM DO SEU CÓDIGO >>>\n",
    "\n",
    "    rmse_scores.append(current_rmse)\n",
    "    print(f\"min_samples_leaf={min_samples}, RMSE Médio={current_rmse:.4f}\")\n",
    "\n",
    "    # 3. Encontrar o melhor valor\n",
    "    if current_rmse < best_rmse:\n",
    "        best_rmse = current_rmse\n",
    "        best_min_samples_leaf = min_samples\n",
    "\n",
    "# 4. Imprimir o melhor resultado\n",
    "print(f\"\\nMelhor min_samples_leaf: {best_min_samples_leaf}\")\n",
    "print(f\"Melhor RMSE Médio de Validação Cruzada: {best_rmse:.4f}\")\n",
    "\n",
    "# Plotar os resultados\n",
    "plt.figure(figsize=(8, 4))\n",
    "plt.plot(min_samples_leaf_values, rmse_scores, \"bo-\")\n",
    "plt.xscale('log')\n",
    "plt.xticks(min_samples_leaf_values, min_samples_leaf_values)\n",
    "plt.xlabel(\"min_samples_leaf\")\n",
    "plt.ylabel(\"RMSE Médio (Validação Cruzada)\")\n",
    "plt.title(\"Ajuste de min_samples_leaf\")\n",
    "plt.grid(True)\n",
    "plt.show()\n"
   ]
  },
  {
   "cell_type": "markdown",
   "metadata": {},
   "source": [
    "## 7. Treinar o Modelo Final e Avaliar no Conjunto de Teste\n",
    "\n",
    "Finalmente, treine o modelo com o melhor hiperparâmetro encontrado e avalie-o no conjunto de teste pré-processado.\n",
    "\n",
    "**Sua tarefa:**\n",
    "1. Crie o regressor final (`DecisionTreeRegressor`) usando o `best_min_samples_leaf` encontrado e `random_state=RANDOM_STATE`.\n",
    "2. Treine este modelo final no conjunto de treinamento **pré-processado completo** (`X_train_prepared`, `y_train`).\n",
    "3. Transforme o conjunto de teste (`X_test`) usando o `preprocessing_pipeline` **ajustado**.\n",
    "4. Faça previsões no conjunto de teste pré-processado.\n",
    "5. Calcule e imprima o RMSE no conjunto de teste."
   ]
  },
  {
   "cell_type": "code",
   "execution_count": 63,
   "metadata": {},
   "outputs": [
    {
     "name": "stdout",
     "output_type": "stream",
     "text": [
      "RMSE Final no Conjunto de Teste: 0.7624\n"
     ]
    }
   ],
   "source": [
    "from sklearn.tree import DecisionTreeRegressor\n",
    "from sklearn.metrics import mean_squared_error\n",
    "import numpy as np\n",
    "\n",
    "final_tree_reg = None\n",
    "X_test_prepared = None\n",
    "y_pred_test = None\n",
    "final_rmse = None\n",
    "\n",
    "# <<< SEU CÓDIGO AQUI >>>\n",
    "# 1. Criar o regressor final\n",
    "final_tree_reg = DecisionTreeRegressor(min_samples_leaf=best_min_samples_leaf, random_state=42)\n",
    "\n",
    "# 2. Treinar no conjunto de treino pré-processado completo\n",
    "final_tree_reg.fit(X_train_prepared, y_train)\n",
    "\n",
    "# 3. Transformar o conjunto de teste\n",
    "X_test_prepared = preprocessing_pipeline.transform(X_test)\n",
    "\n",
    "# 4. Fazer previsões\n",
    "y_pred_test = final_tree_reg.predict(X_test_prepared)\n",
    "\n",
    "# 5. Calcular RMSE final\n",
    "final_rmse = np.sqrt(mean_squared_error(y_test, y_pred_test))\n",
    "# <<< FIM DO SEU CÓDIGO >>>\n",
    "\n",
    "print(f\"RMSE Final no Conjunto de Teste: {final_rmse:.4f}\")\n"
   ]
  },
  {
   "cell_type": "markdown",
   "metadata": {},
   "source": [
    "## Conclusão\n",
    "\n",
    "Você treinou e avaliou um regressor de Árvore de Decisão, observou o efeito (potencialmente pequeno ou até negativo) do PCA neste caso, ajustou um hiperparâmetro de regularização (`min_samples_leaf`) e avaliou o desempenho final do modelo no conjunto de teste."
   ]
  }
 ],
 "metadata": {
  "kernelspec": {
   "display_name": "venv",
   "language": "python",
   "name": "python3"
  },
  "language_info": {
   "codemirror_mode": {
    "name": "ipython",
    "version": 3
   },
   "file_extension": ".py",
   "mimetype": "text/x-python",
   "name": "python",
   "nbconvert_exporter": "python",
   "pygments_lexer": "ipython3",
   "version": "3.12.3"
  }
 },
 "nbformat": 4,
 "nbformat_minor": 2
}
