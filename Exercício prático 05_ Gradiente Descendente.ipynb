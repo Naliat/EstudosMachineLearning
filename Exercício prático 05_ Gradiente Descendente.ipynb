{
 "cells": [
  {
   "cell_type": "markdown",
   "metadata": {},
   "source": [
    "# Exercício de Programação: Gradiente Descendente\n",
    "\n",
    "Neste notebook, você implementará e explorará os algoritmos de Gradiente Descendente em Lote (Batch) e Estocástico (Stochastic) para treinar um modelo de Regressão Linear."
   ]
  },
  {
   "cell_type": "markdown",
   "metadata": {},
   "source": [
    "## Parte 1: Gerar Dados Sintéticos\n",
    "\n",
    "Aqui você pode aproveitar a geração de dados sintéticos que utilizou no exercício anterior (Regressão Linear)."
   ]
  },
  {
   "cell_type": "code",
   "execution_count": 27,
   "metadata": {},
   "outputs": [],
   "source": [
    "import numpy as np\n",
    "import matplotlib.pyplot as plt"
   ]
  },
  {
   "cell_type": "code",
   "execution_count": 28,
   "metadata": {},
   "outputs": [
    {
     "data": {
      "image/png": "[encoded data removed]",
      "text/plain": [
       "<Figure size 640x480 with 1 Axes>"
      ]
     },
     "metadata": {},
     "output_type": "display_data"
    }
   ],
   "source": [
    "# Para garantir que seja possível reproduzir os resultados\n",
    "np.random.seed(42)\n",
    "\n",
    "# Gere 100 instâncias\n",
    "m = 100\n",
    "\n",
    "# ############################################################### #\n",
    "X = 2 + 4 * np.random.rand(m, 1)\n",
    "ruido = np.random.randn(m, 1)\n",
    "y = 5 - 2 * X + ruido\n",
    "\n",
    "\n",
    "# ############################################################### #\n",
    "\n",
    "# Vamos plotar os dados para visualizá-los\n",
    "plt.scatter(X, y)\n",
    "plt.xlabel(\"x1\")\n",
    "plt.ylabel(\"y\")\n",
    "plt.title(\"Dados Sintéticos Gerados\")\n",
    "plt.grid(True)\n",
    "plt.show()"
   ]
  },
  {
   "cell_type": "markdown",
   "metadata": {},
   "source": [
    "## Parte 2: Gradiente Descendente em Lote (Batch GD)\n",
    "\n",
    "O Gradiente Descendente em Lote calcula os gradientes com base em todo o conjunto de treinamento a cada passo. A fórmula para o vetor de gradiente da função de custo MSE é:\n",
    "\n",
    "$$ \\nabla_{\\theta} \\text{MSE}(\\theta) = \\frac{2}{m} X^T (X\\theta - y) $$\n",
    "\n",
    "E o passo de atualização dos pesos é:\n",
    "\n",
    "$$ \\theta^{(\\text{próximo passo})} = \\theta - \\eta \\nabla_{\\theta} \\text{MSE}(\\theta) $$\n",
    "\n",
    "**Sua tarefa:** Adicione o termo de viés e implemente o Batch GD."
   ]
  },
  {
   "cell_type": "code",
   "execution_count": 29,
   "metadata": {
    "collapsed": true
   },
   "outputs": [
    {
     "name": "stdout",
     "output_type": "stream",
     "text": [
      "Theta final (solução): [21.35344567 -5.96750236]\n"
     ]
    }
   ],
   "source": [
    "eta = 0.05\n",
    "n_epochs = 50\n",
    "t0, t1 = 5, 50\n",
    "\n",
    "def learning_schedule(t):\n",
    "    return t0 / (t + t1)\n",
    "\n",
    "np.random.seed(42)\n",
    "theta = np.random.randn(2, 1)  # inicialização aleatória\n",
    "\n",
    "m = len(X)\n",
    "X_b = np.c_[np.ones((m, 1)), X]  # adiciona o termo de viés\n",
    "\n",
    "for epoch in range(n_epochs):\n",
    "    for iteration in range(m):\n",
    "        random_index = np.random.randint(m)\n",
    "        xi = X_b[random_index : random_index + 1]\n",
    "        yi = y[random_index : random_index + 1]\n",
    "        gradients = 2 * xi.T @ (xi @ theta - yi)\n",
    "        eta = learning_schedule(epoch * m + iteration)\n",
    "        theta = theta - eta * gradients\n",
    "\n",
    "print(f\"Theta final (solução): {theta.ravel()}\")\n"
   ]
  },
  {
   "cell_type": "markdown",
   "metadata": {},
   "source": [
    "### Explorando a Taxa de Aprendizagem (eta)\n",
    "\n",
    "Agora, vamos observar como os parâmetros `theta` mudam após 200 iterações com diferentes taxas de aprendizagem. Isso nos ajuda a entender a importância desse hiperparâmetro. O que podemos concluir?"
   ]
  },
  {
   "cell_type": "code",
   "execution_count": 30,
   "metadata": {},
   "outputs": [
    {
     "name": "stdout",
     "output_type": "stream",
     "text": [
      "Para eta = 0.01, theta após 200 iterações: [ 1.7314504  -1.23520356]\n",
      "Para eta = 0.05, theta após 200 iterações: [ 4.42960373 -1.87439894]\n",
      "Para eta = 0.1, theta após 200 iterações: [1.03483014e+78 4.36819555e+78]\n"
     ]
    }
   ],
   "source": [
    "learning_rates = [0.01, 0.05, 0.10]\n",
    "\n",
    "m = len(X)\n",
    "X_b = np.c_[np.ones((m, 1)), X]  # adiciona o termo de viés\n",
    "\n",
    "for eta in learning_rates:\n",
    "    np.random.seed(42)\n",
    "    theta = np.random.randn(2, 1)\n",
    "    for iteration in range(200):\n",
    "        gradients = 2 / m * X_b.T @ (X_b @ theta - y)\n",
    "        theta = theta - eta * gradients\n",
    "        \n",
    "    print(f\"Para eta = {eta}, theta após 200 iterações: {theta.ravel()}\")\n"
   ]
  },
  {
   "cell_type": "markdown",
   "metadata": {},
   "source": [
    "## Parte 3: Gradiente Descendente Estocástico (Stochastic GD)\n",
    "\n",
    "O Gradiente Descendente Estocástico acelera o processo calculando os gradientes com base em uma única instância aleatória a cada passo. Devido à sua natureza aleatória, é comum usar um **agendamento de aprendizagem** para diminuir gradualmente a taxa de aprendizagem.\n",
    "\n",
    "Neste exercício, usaremos a função de agendamento: `learning_rate = 5 / (t + 500)`, onde `t` é o número da iteração.\n",
    "\n",
    "**Sua tarefa:** Complete o código abaixo para implementar o Stochastic GD. Compare com o resultado do Batch GD. Note que executamos apenas 100 épocas."
   ]
  },
  {
   "cell_type": "code",
   "execution_count": 31,
   "metadata": {
    "collapsed": true
   },
   "outputs": [
    {
     "name": "stdout",
     "output_type": "stream",
     "text": [
      "Theta final (solução): [ 4.9710209  -2.00493894]\n"
     ]
    }
   ],
   "source": [
    "n_epochs = 100\n",
    "t0, t1 = 5, 500  # hiperparâmetros do agendamento de aprendizagem\n",
    "\n",
    "def learning_schedule(t):\n",
    "    return t0 / (t + t1)\n",
    "\n",
    "np.random.seed(42)\n",
    "theta_solution_sgd = np.random.randn(2, 1)  # inicialização aleatória\n",
    "\n",
    "m = len(X)\n",
    "X_b = np.c_[np.ones((m, 1)), X]  # adiciona o termo de viés\n",
    "\n",
    "t = 0  # contador de iterações\n",
    "\n",
    "for epoch in range(n_epochs):\n",
    "    for i in range(m):\n",
    "        random_index = np.random.randint(m)\n",
    "        xi = X_b[random_index:random_index + 1]\n",
    "        yi = y[random_index:random_index + 1]\n",
    "        gradients = 2 * xi.T @ (xi @ theta_solution_sgd - yi)\n",
    "        eta = learning_schedule(t)\n",
    "        theta_solution_sgd = theta_solution_sgd - eta * gradients\n",
    "        t += 1\n",
    "\n",
    "print(f\"Theta final (solução): {theta_solution_sgd.ravel()}\")\n"
   ]
  },
  {
   "cell_type": "markdown",
   "metadata": {},
   "source": [
    "## Parte 4: Stochastic GD com Scikit-Learn\n",
    "\n",
    "O Scikit-Learn oferece a classe `SGDRegressor`, que implementa o Gradiente Descendente Estocástico para regressão.\n",
    "\n",
    "**Sua tarefa:** Use a classe `SGDRegressor` para treinar um modelo nos mesmos dados sintéticos. Em seguida, imprima o intercepto (`intercept_`) e o coeficiente (`coef_`) encontrados. Use 0.05 para a taxa de aprendizagem inicial (eta0), 100 épocas e random_state=42."
   ]
  },
  {
   "cell_type": "code",
   "execution_count": 32,
   "metadata": {
    "collapsed": true
   },
   "outputs": [
    {
     "name": "stdout",
     "output_type": "stream",
     "text": [
      "Intercepto do Scikit-learn (solução): [5.45017526]\n",
      "Coeficiente do Scikit-learn (solução): [-2.22372277]\n"
     ]
    }
   ],
   "source": [
    "from sklearn.linear_model import SGDRegressor\n",
    "\n",
    "# ############################################################### #\n",
    "sgd_reg = SGDRegressor(max_iter=100, eta0=0.05, random_state=42, learning_rate=\"constant\")\n",
    "# ############################################################### #\n",
    "\n",
    "# O método fit espera um array 1D para y, por isso usamos .ravel()\n",
    "sgd_reg.fit(X, y.ravel())\n",
    "\n",
    "print(f\"Intercepto do Scikit-learn (solução): {sgd_reg.intercept_}\")\n",
    "print(f\"Coeficiente do Scikit-learn (solução): {sgd_reg.coef_}\")\n"
   ]
  },
  {
   "cell_type": "markdown",
   "metadata": {},
   "source": [
    "### Conclusão\n",
    "\n",
    "Compare os valores de `theta` que você encontrou com a implementação manual (tanto Batch quanto Stochastic) e com a implementação do Scikit-Learn. Eles devem ser muito próximos!\n",
    "\n",
    "Os parâmetros da função original eram intercepto = 5 e coeficiente = -2. Nossos resultados devem estar próximos a esses valores, com pequenas variações devido ao ruído que adicionamos aos dados."
   ]
  }
 ],
 "metadata": {
  "kernelspec": {
   "display_name": "venv",
   "language": "python",
   "name": "python3"
  },
  "language_info": {
   "codemirror_mode": {
    "name": "ipython",
    "version": 3
   },
   "file_extension": ".py",
   "mimetype": "text/x-python",
   "name": "python",
   "nbconvert_exporter": "python",
   "pygments_lexer": "ipython3",
   "version": "3.12.3"
  }
 },
 "nbformat": 4,
 "nbformat_minor": 4
}
