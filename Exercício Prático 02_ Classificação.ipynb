{
 "cells": [
  {
   "cell_type": "markdown",
   "id": "8ca3df3f",
   "metadata": {
    "id": "8ca3df3f"
   },
   "source": [
    "# Exercício Prático: Classificação com Múltiplas Métricas (Capítulo 3)\n",
    "Este notebook contém um exercício prático para aplicar os conceitos de classificação, avaliação de modelos e análise de erros abordados em aula.\n",
    "Utilizaremos o dataset \"Wine\", um conjunto de dados público e pequeno com múltiplas classes.\n"
   ]
  },
  {
   "cell_type": "code",
   "execution_count": 91,
   "id": "03e3a3e5",
   "metadata": {
    "colab": {
     "base_uri": "https://localhost:8080/"
    },
    "executionInfo": {
     "elapsed": 2449,
     "status": "ok",
     "timestamp": 1758224012123,
     "user": {
      "displayName": "Críston Souza",
      "userId": "15676764218278845866"
     },
     "user_tz": 180
    },
    "id": "03e3a3e5",
    "outputId": "2e6496eb-e8ba-4698-9e14-593c5162f81b"
   },
   "outputs": [
    {
     "name": "stdout",
     "output_type": "stream",
     "text": [
      "Dataset 'Wine' carregado e pronto.\n",
      "Características do treino: (142, 13)\n",
      "Rótulos do treino: (142,)\n"
     ]
    }
   ],
   "source": [
    "# Execute esta célula para configurar o ambiente do notebook\n",
    "import numpy as np\n",
    "import matplotlib.pyplot as plt\n",
    "from sklearn.datasets import load_wine\n",
    "from sklearn.model_selection import train_test_split, cross_val_score, cross_val_predict\n",
    "from sklearn.preprocessing import StandardScaler\n",
    "from sklearn.linear_model import SGDClassifier\n",
    "from sklearn.dummy import DummyClassifier\n",
    "from sklearn.metrics import confusion_matrix, ConfusionMatrixDisplay, precision_score, recall_score, f1_score, precision_recall_curve, roc_curve, roc_auc_score\n",
    "\n",
    "# --- Carregando o Dataset ---\n",
    "# O dataset \"Wine\" possui 178 amostras de vinhos,\n",
    "# cada uma com 13 características químicas.\n",
    "# O objetivo é classificar os vinhos em uma de 3 classes (cultivares).\n",
    "wine = load_wine()\n",
    "X = wine.data\n",
    "y = wine.target\n",
    "\n",
    "# Separação dos conjuntos de treino e teste\n",
    "X_train, X_test, y_train, y_test = train_test_split(X, y, test_size=0.2, random_state=42)\n",
    "\n",
    "# Normalizando os dados para melhor desempenho do SGDClassifier\n",
    "scaler = StandardScaler()\n",
    "X_train_scaled = scaler.fit_transform(X_train)\n",
    "X_test_scaled = scaler.transform(X_test)\n",
    "\n",
    "print(\"Dataset 'Wine' carregado e pronto.\")\n",
    "print(f\"Características do treino: {X_train_scaled.shape}\")\n",
    "print(f\"Rótulos do treino: {y_train.shape}\")"
   ]
  },
  {
   "cell_type": "markdown",
   "id": "c28e1122",
   "metadata": {
    "id": "c28e1122"
   },
   "source": [
    "## Parte 1: Classificação Binária\n",
    "Nesta seção, vamos adaptar o problema para uma tarefa de classificação binária, onde o objetivo será apenas identificar se um vinho pertence à classe 0 ou não.\n",
    "\n",
    "### 1.1 - Adaptar o Dataset para 2 Classes\n",
    "**Sua tarefa:** Crie as variáveis `y_train_0` e `y_test_0`. Elas devem conter `True` para as amostras que são da classe 0 e `False` para as outras.\n",
    "Dica: Use uma comparação booleana com `y_train` e `y_test`.\n",
    "\n"
   ]
  },
  {
   "cell_type": "code",
   "execution_count": 92,
   "id": "41ba0421",
   "metadata": {
    "colab": {
     "base_uri": "https://localhost:8080/"
    },
    "executionInfo": {
     "elapsed": 4,
     "status": "ok",
     "timestamp": 1758222888634,
     "user": {
      "displayName": "Críston Souza",
      "userId": "15676764218278845866"
     },
     "user_tz": 180
    },
    "id": "41ba0421",
    "outputId": "5966138e-adb3-4d06-8bb0-d04431de2230"
   },
   "outputs": [
    {
     "name": "stdout",
     "output_type": "stream",
     "text": [
      "Primeiros 5 labels do y_train_0: [False False False False  True]\n"
     ]
    }
   ],
   "source": [
    "# ASSUMINDO QUE y_train e y_test JÁ FORAM DEFINIDOS\n",
    "# E contêm os rótulos originais das classes (e.g., 0, 1, 2, ...)\n",
    "\n",
    "# SEU CÓDIGO AQUI\n",
    "y_train_0 = (y_train == 0)\n",
    "y_test_0 = (y_test == 0)\n",
    "\n",
    "print(\"Primeiros 5 labels do y_train_0:\", y_train_0[:5])"
   ]
  },
  {
   "cell_type": "markdown",
   "id": "5a12cca5",
   "metadata": {
    "id": "5a12cca5"
   },
   "source": [
    "### 1.2 - Treinar um Classificador Binário e Fazer uma Predição\n",
    "**Sua tarefa:**\n",
    "1. Crie e treine uma instância do `SGDClassifier`. Use `random_state=42` para reprodutibilidade.\n",
    "2. Use o classificador treinado para prever a classe da primeira instância do conjunto de treino (`X_train_scaled[0]`).\n",
    "3. Imprima a classe prevista e a classe real."
   ]
  },
  {
   "cell_type": "code",
   "execution_count": 93,
   "id": "0e32ec59",
   "metadata": {
    "colab": {
     "base_uri": "https://localhost:8080/"
    },
    "executionInfo": {
     "elapsed": 4,
     "status": "ok",
     "timestamp": 1758222951410,
     "user": {
      "displayName": "Críston Souza",
      "userId": "15676764218278845866"
     },
     "user_tz": 180
    },
    "id": "0e32ec59",
    "outputId": "13d5dee9-8d65-4b80-d2dd-e299122e0980"
   },
   "outputs": [
    {
     "name": "stdout",
     "output_type": "stream",
     "text": [
      "Classe prevista: 2\n",
      "Classe real: 2\n"
     ]
    }
   ],
   "source": [
    "from sklearn.linear_model import SGDClassifier\n",
    "\n",
    "# 1. Criar e treinar o classificador\n",
    "sgd_clf = SGDClassifier(random_state=42)\n",
    "sgd_clf.fit(X_train_scaled, y_train)\n",
    "\n",
    "# 2. Fazer a predição da primeira instância\n",
    "predicao = sgd_clf.predict([X_train_scaled[0]])\n",
    "\n",
    "# 3. Imprimir a classe prevista e a classe real\n",
    "print(\"Classe prevista:\", predicao[0])\n",
    "print(\"Classe real:\", y_train[0])\n"
   ]
  },
  {
   "cell_type": "markdown",
   "id": "430dcac8",
   "metadata": {
    "id": "430dcac8"
   },
   "source": [
    "## Parte 2: Avaliação de Desempenho (Binário)\n",
    "\n",
    "### 2.1 - Medir Acurácia com Validação Cruzada\n",
    "**Sua tarefa:** Use `cross_val_score` para avaliar seu `sgd_clf` com 3 folds (`cv=3`) e a métrica de acurácia. Imprima as pontuações de cada fold."
   ]
  },
  {
   "cell_type": "code",
   "execution_count": 94,
   "id": "9e680e14",
   "metadata": {
    "colab": {
     "base_uri": "https://localhost:8080/"
    },
    "executionInfo": {
     "elapsed": 47,
     "status": "ok",
     "timestamp": 1758223020434,
     "user": {
      "displayName": "Críston Souza",
      "userId": "15676764218278845866"
     },
     "user_tz": 180
    },
    "id": "9e680e14",
    "outputId": "2931bf36-d1af-4d3f-e07a-7013f1fdc7e7"
   },
   "outputs": [
    {
     "name": "stdout",
     "output_type": "stream",
     "text": [
      "Acurácia em cada fold: [0.95833333 0.95744681 0.95744681]\n"
     ]
    }
   ],
   "source": [
    "from sklearn.model_selection import cross_val_score\n",
    "\n",
    "# Avaliar o classificador com validação cruzada\n",
    "acuracia_scores = cross_val_score(sgd_clf, X_train_scaled, y_train, cv=3, scoring='accuracy')\n",
    "\n",
    "# Imprimir as pontuações de cada fold\n",
    "print(\"Acurácia em cada fold:\", acuracia_scores)\n"
   ]
  },
  {
   "cell_type": "markdown",
   "id": "13e70ff1",
   "metadata": {
    "id": "13e70ff1"
   },
   "source": [
    "### 2.2 - Baseline com `DummyClassifier`\n",
    "**Sua tarefa:** Faça o mesmo que no passo anterior, mas usando um `DummyClassifier` com a estratégia \"most_frequent\". Isso nos dará uma baseline para comparar. O SGD é melhor que o baseline?\n",
    "\n"
   ]
  },
  {
   "cell_type": "code",
   "execution_count": 95,
   "id": "f151ef14",
   "metadata": {
    "colab": {
     "base_uri": "https://localhost:8080/"
    },
    "executionInfo": {
     "elapsed": 49,
     "status": "ok",
     "timestamp": 1758223079493,
     "user": {
      "displayName": "Críston Souza",
      "userId": "15676764218278845866"
     },
     "user_tz": 180
    },
    "id": "f151ef14",
    "outputId": "2148f620-a88e-4c19-eb50-c4fb93539a21"
   },
   "outputs": [
    {
     "name": "stdout",
     "output_type": "stream",
     "text": [
      "Acurácia (Dummy) em cada fold: [0.39583333 0.40425532 0.40425532]\n"
     ]
    }
   ],
   "source": [
    "from sklearn.dummy import DummyClassifier\n",
    "from sklearn.model_selection import cross_val_score\n",
    "\n",
    "# Criar o classificador Dummy\n",
    "dummy_clf = DummyClassifier(strategy=\"most_frequent\")\n",
    "\n",
    "# Avaliar com validação cruzada\n",
    "acuracia_dummy = cross_val_score(dummy_clf, X_train_scaled, y_train, cv=3, scoring='accuracy')\n",
    "\n",
    "# Imprimir os resultados\n",
    "print(\"Acurácia (Dummy) em cada fold:\", acuracia_dummy)\n"
   ]
  },
  {
   "cell_type": "markdown",
   "id": "5984c17c",
   "metadata": {
    "id": "5984c17c"
   },
   "source": [
    "### 2.3 - Matriz de Confusão, Precisão, Recall e F1-Score do SGDClassifier (binário)\n",
    "**Sua tarefa:**\n",
    "1. Obtenha as previsões para todo o conjunto de treino usando `cross_val_predict`.\n",
    "2. Calcule e exiba a matriz de confusão.\n",
    "3. Calcule e imprima a precisão, o recall e o F1-score.\n",
    "\n"
   ]
  },
  {
   "cell_type": "code",
   "execution_count": 96,
   "id": "2ea569f1",
   "metadata": {
    "colab": {
     "base_uri": "https://localhost:8080/"
    },
    "executionInfo": {
     "elapsed": 43,
     "status": "ok",
     "timestamp": 1758223196473,
     "user": {
      "displayName": "Críston Souza",
      "userId": "15676764218278845866"
     },
     "user_tz": 180
    },
    "id": "2ea569f1",
    "outputId": "afac4210-11fa-4faf-cca0-8eed399be4c5"
   },
   "outputs": [
    {
     "name": "stdout",
     "output_type": "stream",
     "text": [
      "Matriz de Confusão:\n",
      " [[44  1  0]\n",
      " [ 1 53  3]\n",
      " [ 0  1 39]]\n",
      "Precisão (weighted): 0.9582403511980977\n",
      "Recall (weighted): 0.9577464788732394\n",
      "F1-Score (weighted): 0.9577127398537567\n"
     ]
    }
   ],
   "source": [
    "from sklearn.model_selection import cross_val_predict\n",
    "from sklearn.metrics import confusion_matrix, precision_score, recall_score, f1_score\n",
    "\n",
    "# 1. Obter previsões com validação cruzada\n",
    "y_train_pred = cross_val_predict(sgd_clf, X_train_scaled, y_train, cv=3)\n",
    "\n",
    "# 2. Matriz de confusão\n",
    "matriz_confusao = confusion_matrix(y_train, y_train_pred)\n",
    "print(\"Matriz de Confusão:\\n\", matriz_confusao)\n",
    "\n",
    "# 3. Métricas para problema multiclasse\n",
    "precisao = precision_score(y_train, y_train_pred, average='weighted')\n",
    "recall = recall_score(y_train, y_train_pred, average='weighted')\n",
    "f1 = f1_score(y_train, y_train_pred, average='weighted')\n",
    "\n",
    "print(\"Precisão (weighted):\", precisao)\n",
    "print(\"Recall (weighted):\", recall)\n",
    "print(\"F1-Score (weighted):\", f1)\n"
   ]
  },
  {
   "cell_type": "markdown",
   "id": "9f7a3820",
   "metadata": {
    "id": "9f7a3820"
   },
   "source": [
    "## Parte 3: Curvas de Avaliação (Binário)\n",
    "\n",
    "### 3.1 - Obter Scores de Decisão\n",
    "**Sua tarefa:** Use `cross_val_predict` novamente, mas desta vez para obter os *scores de decisão* (`decision_function`) em vez das previsões de classe.\n",
    "\n"
   ]
  },
  {
   "cell_type": "code",
   "execution_count": 97,
   "id": "00b73361",
   "metadata": {
    "colab": {
     "base_uri": "https://localhost:8080/"
    },
    "executionInfo": {
     "elapsed": 9,
     "status": "ok",
     "timestamp": 1758223274499,
     "user": {
      "displayName": "Críston Souza",
      "userId": "15676764218278845866"
     },
     "user_tz": 180
    },
    "id": "00b73361",
    "outputId": "2686e380-0bf4-4e2b-9747-6ee2f7e76efc"
   },
   "outputs": [
    {
     "name": "stdout",
     "output_type": "stream",
     "text": [
      "Scores de decisão (primeiros 5): [[ -65.6785192  -185.76708802   98.87998731]\n",
      " [-144.45010382  -23.84815242   54.19254207]\n",
      " [ -66.99672564   62.36970305 -161.67296785]\n",
      " [-101.73649127 -144.45876737   88.67256483]\n",
      " [  29.56970163   -4.297556   -130.12312568]]\n"
     ]
    }
   ],
   "source": [
    "from sklearn.model_selection import cross_val_predict\n",
    "\n",
    "# Obter scores de decisão com validação cruzada\n",
    "y_scores = cross_val_predict(sgd_clf, X_train_scaled, y_train, cv=3, method='decision_function')\n",
    "\n",
    "# Exibir os primeiros 5 scores\n",
    "print(\"Scores de decisão (primeiros 5):\", y_scores[:5])\n"
   ]
  },
  {
   "cell_type": "markdown",
   "id": "5397eeea",
   "metadata": {
    "id": "5397eeea"
   },
   "source": [
    "### 3.2 - Plotar Curvas de Precisão-Recall e ROC\n",
    "**Sua tarefa:**\n",
    "1. Use a função `precision_recall_curve` para obter as precisões, recalls e limiares.\n",
    "2. Plote a curva de Precisão vs. Recall.\n",
    "3. Use a função `roc_curve` para obter a taxa de falsos positivos (fpr) e a taxa de verdadeiros positivos (tpr).\n",
    "4. Plote a curva ROC.\n",
    "5. Calcule e imprima a Área Sob a Curva ROC (AUC).\n",
    "\n"
   ]
  },
  {
   "cell_type": "code",
   "execution_count": 98,
   "id": "49191e58",
   "metadata": {
    "colab": {
     "base_uri": "https://localhost:8080/",
     "height": 505
    },
    "executionInfo": {
     "elapsed": 517,
     "status": "ok",
     "timestamp": 1758223320006,
     "user": {
      "displayName": "Críston Souza",
      "userId": "15676764218278845866"
     },
     "user_tz": 180
    },
    "id": "49191e58",
    "outputId": "9d954eab-02ef-4c18-cf4c-4218ad48e0b7"
   },
   "outputs": [
    {
     "data": {
      "image/png": "[encoded data removed]",
      "text/plain": [
       "<Figure size 1200x500 with 2 Axes>"
      ]
     },
     "metadata": {},
     "output_type": "display_data"
    },
    {
     "name": "stdout",
     "output_type": "stream",
     "text": [
      "Área Sob a Curva ROC (AUC): 0.9961\n"
     ]
    }
   ],
   "source": [
    "from sklearn.model_selection import cross_val_predict\n",
    "from sklearn.metrics import precision_recall_curve, roc_curve, roc_auc_score\n",
    "import matplotlib.pyplot as plt\n",
    "\n",
    "# Criar vetor binário para a classe 0\n",
    "y_train_0 = (y_train == 0)\n",
    "\n",
    "# Obter scores de decisão para todas as classes (matriz)\n",
    "y_scores_all = cross_val_predict(sgd_clf, X_train_scaled, y_train, cv=3, method='decision_function')\n",
    "\n",
    "# Extrair os scores da classe 0 (coluna correspondente)\n",
    "y_scores_0 = y_scores_all[:, 0]\n",
    "\n",
    "# Curva Precisão-Recall\n",
    "precisions, recalls, thresholds_pr = precision_recall_curve(y_train_0, y_scores_0)\n",
    "\n",
    "plt.figure(figsize=(12, 5))\n",
    "plt.subplot(1, 2, 1)\n",
    "plt.plot(recalls, precisions, \"b-\", linewidth=2)\n",
    "plt.xlabel(\"Recall\")\n",
    "plt.ylabel(\"Precisão\")\n",
    "plt.title(\"Curva Precisão-Recall\")\n",
    "plt.grid(True)\n",
    "\n",
    "# Curva ROC\n",
    "fpr, tpr, thresholds_roc = roc_curve(y_train_0, y_scores_0)\n",
    "\n",
    "plt.subplot(1, 2, 2)\n",
    "plt.plot(fpr, tpr, \"b-\", linewidth=2, label=\"SGD\")\n",
    "plt.plot([0, 1], [0, 1], 'k--')  # Linha de referência\n",
    "plt.xlabel(\"Taxa de Falsos Positivos\")\n",
    "plt.ylabel(\"Taxa de Verdadeiros Positivos (Recall)\")\n",
    "plt.title(\"Curva ROC\")\n",
    "plt.grid(True)\n",
    "plt.show()\n",
    "\n",
    "# Área Sob a Curva ROC (AUC)\n",
    "roc_auc = roc_auc_score(y_train_0, y_scores_0)\n",
    "print(f\"Área Sob a Curva ROC (AUC): {roc_auc:.4f}\")\n"
   ]
  },
  {
   "cell_type": "markdown",
   "id": "4fbb920a",
   "metadata": {
    "id": "4fbb920a"
   },
   "source": [
    "## Parte 4: Classificação Multiclasse e Análise de Erros\n",
    "\n",
    "### 4.1 - Treinar o Classificador Multiclasse\n",
    "**Sua tarefa:**\n",
    "1. Treine uma nova instância do `SGDClassifier` (ou use a antiga), mas desta vez usando o `y_train` original, que contém todas as 3 classes.\n",
    "2. Faça uma predição para a primeira instância do conjunto de treino e imprima a classe prevista e a real.\n",
    "\n"
   ]
  },
  {
   "cell_type": "code",
   "execution_count": 99,
   "id": "bb70c9fb",
   "metadata": {
    "colab": {
     "base_uri": "https://localhost:8080/"
    },
    "executionInfo": {
     "elapsed": 4,
     "status": "ok",
     "timestamp": 1758223729933,
     "user": {
      "displayName": "Críston Souza",
      "userId": "15676764218278845866"
     },
     "user_tz": 180
    },
    "id": "bb70c9fb",
    "outputId": "4b535f87-fa90-48d5-ccba-f17dbd7a7eaa"
   },
   "outputs": [
    {
     "name": "stdout",
     "output_type": "stream",
     "text": [
      "Classe prevista: 2\n",
      "Classe real: 2\n"
     ]
    }
   ],
   "source": [
    "from sklearn.linear_model import SGDClassifier\n",
    "\n",
    "# 1. Treinar o classificador com todas as 3 classes\n",
    "sgd_clf_multiclasse = SGDClassifier(random_state=42)\n",
    "sgd_clf_multiclasse.fit(X_train_scaled, y_train)\n",
    "\n",
    "# 2. Fazer a predição da primeira instância\n",
    "predicao_multiclasse = sgd_clf_multiclasse.predict([X_train_scaled[0]])\n",
    "\n",
    "# Imprimir a classe prevista e a classe real\n",
    "print(\"Classe prevista:\", predicao_multiclasse[0])\n",
    "print(\"Classe real:\", y_train[0])\n"
   ]
  },
  {
   "cell_type": "markdown",
   "id": "9709f7d5",
   "metadata": {
    "id": "9709f7d5"
   },
   "source": [
    "### 4.2 - Análise de Erros com Matriz de Confusão\n",
    "**Sua tarefa:**\n",
    "1. Use `cross_val_predict` para obter as previsões no conjunto de treino para o modelo multiclasse.\n",
    "2. Plote a matriz de confusão normalizada (use `ConfusionMatrixDisplay.from_predictions` com `normalize='true'`).\n",
    "3. Com base na matriz, identifique quais classes o modelo mais confunde.\n",
    "\n"
   ]
  },
  {
   "cell_type": "code",
   "execution_count": 100,
   "id": "27f8480c",
   "metadata": {
    "colab": {
     "base_uri": "https://localhost:8080/",
     "height": 661
    },
    "executionInfo": {
     "elapsed": 233,
     "status": "ok",
     "timestamp": 1758223905599,
     "user": {
      "displayName": "Críston Souza",
      "userId": "15676764218278845866"
     },
     "user_tz": 180
    },
    "id": "27f8480c",
    "outputId": "35254270-b470-4053-a2b0-ff8c1436de13"
   },
   "outputs": [
    {
     "data": {
      "image/png": "[encoded data removed]",
      "text/plain": [
       "<Figure size 800x800 with 2 Axes>"
      ]
     },
     "metadata": {},
     "output_type": "display_data"
    }
   ],
   "source": [
    "from sklearn.metrics import ConfusionMatrixDisplay\n",
    "from sklearn.model_selection import cross_val_predict\n",
    "import matplotlib.pyplot as plt\n",
    "\n",
    "# 1. Obter previsões com validação cruzada\n",
    "y_train_pred_multi = cross_val_predict(sgd_clf_multiclasse, X_train_scaled, y_train, cv=3)\n",
    "\n",
    "# 2. Plotar matriz de confusão normalizada\n",
    "fig, ax = plt.subplots(figsize=(8, 8))\n",
    "ConfusionMatrixDisplay.from_predictions(y_train, y_train_pred_multi, normalize='true', ax=ax)\n",
    "\n",
    "plt.title(\"Matriz de Confusão Normalizada (por linha)\")\n",
    "plt.show()\n"
   ]
  }
 ],
 "metadata": {
  "colab": {
   "provenance": []
  },
  "kernelspec": {
   "display_name": "venv",
   "language": "python",
   "name": "python3"
  },
  "language_info": {
   "codemirror_mode": {
    "name": "ipython",
    "version": 3
   },
   "file_extension": ".py",
   "mimetype": "text/x-python",
   "name": "python",
   "nbconvert_exporter": "python",
   "pygments_lexer": "ipython3",
   "version": "3.12.3"
  }
 },
 "nbformat": 4,
 "nbformat_minor": 5
}
